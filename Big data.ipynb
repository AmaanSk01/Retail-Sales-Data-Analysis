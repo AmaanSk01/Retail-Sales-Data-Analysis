{
 "cells": [
  {
   "cell_type": "code",
   "execution_count": null,
   "id": "5dcfe745-4094-4886-94bd-5d2d81b1bdff",
   "metadata": {},
   "outputs": [],
   "source": [
    "importing libraries"
   ]
  },
  {
   "cell_type": "code",
   "execution_count": 7,
   "id": "5673b4f1-c104-44b7-9804-0056f6fab1e8",
   "metadata": {},
   "outputs": [],
   "source": [
    "import pandas as pd"
   ]
  },
  {
   "cell_type": "code",
   "execution_count": 8,
   "id": "b5d0e48c-f9eb-4c6a-8275-2a49011e2702",
   "metadata": {},
   "outputs": [],
   "source": [
    "#Reading csv file"
   ]
  },
  {
   "cell_type": "code",
   "execution_count": 9,
   "id": "34e730b8-7540-4f62-a666-6b6a7f98a457",
   "metadata": {},
   "outputs": [],
   "source": [
    "retail_data = pd.read_csv(\"retail_sales_dataset.csv\")"
   ]
  },
  {
   "cell_type": "code",
   "execution_count": 10,
   "id": "5b9c519d-9565-4d3c-97c1-28ea674fcb12",
   "metadata": {},
   "outputs": [],
   "source": [
    "#Printing the dataset"
   ]
  },
  {
   "cell_type": "code",
   "execution_count": 6,
   "id": "dbf05911-7da5-459a-93f9-56aa074dd430",
   "metadata": {},
   "outputs": [
    {
     "data": {
      "text/html": [
       "<div>\n",
       "<style scoped>\n",
       "    .dataframe tbody tr th:only-of-type {\n",
       "        vertical-align: middle;\n",
       "    }\n",
       "\n",
       "    .dataframe tbody tr th {\n",
       "        vertical-align: top;\n",
       "    }\n",
       "\n",
       "    .dataframe thead th {\n",
       "        text-align: right;\n",
       "    }\n",
       "</style>\n",
       "<table border=\"1\" class=\"dataframe\">\n",
       "  <thead>\n",
       "    <tr style=\"text-align: right;\">\n",
       "      <th></th>\n",
       "      <th>Transaction ID</th>\n",
       "      <th>Date</th>\n",
       "      <th>Customer ID</th>\n",
       "      <th>Gender</th>\n",
       "      <th>Age</th>\n",
       "      <th>Product Category</th>\n",
       "      <th>Quantity</th>\n",
       "      <th>Price per Unit</th>\n",
       "      <th>Total Amount</th>\n",
       "    </tr>\n",
       "  </thead>\n",
       "  <tbody>\n",
       "    <tr>\n",
       "      <th>0</th>\n",
       "      <td>1</td>\n",
       "      <td>24-11-2023</td>\n",
       "      <td>CUST001</td>\n",
       "      <td>Male</td>\n",
       "      <td>34</td>\n",
       "      <td>Beauty</td>\n",
       "      <td>3</td>\n",
       "      <td>50</td>\n",
       "      <td>150</td>\n",
       "    </tr>\n",
       "    <tr>\n",
       "      <th>1</th>\n",
       "      <td>2</td>\n",
       "      <td>27-02-2023</td>\n",
       "      <td>CUST002</td>\n",
       "      <td>Female</td>\n",
       "      <td>26</td>\n",
       "      <td>Clothing</td>\n",
       "      <td>2</td>\n",
       "      <td>500</td>\n",
       "      <td>1000</td>\n",
       "    </tr>\n",
       "    <tr>\n",
       "      <th>2</th>\n",
       "      <td>3</td>\n",
       "      <td>13-01-2023</td>\n",
       "      <td>CUST003</td>\n",
       "      <td>Male</td>\n",
       "      <td>50</td>\n",
       "      <td>Electronics</td>\n",
       "      <td>1</td>\n",
       "      <td>30</td>\n",
       "      <td>30</td>\n",
       "    </tr>\n",
       "    <tr>\n",
       "      <th>3</th>\n",
       "      <td>4</td>\n",
       "      <td>21-05-2023</td>\n",
       "      <td>CUST004</td>\n",
       "      <td>Male</td>\n",
       "      <td>37</td>\n",
       "      <td>Clothing</td>\n",
       "      <td>1</td>\n",
       "      <td>500</td>\n",
       "      <td>500</td>\n",
       "    </tr>\n",
       "    <tr>\n",
       "      <th>4</th>\n",
       "      <td>5</td>\n",
       "      <td>06-05-2023</td>\n",
       "      <td>CUST005</td>\n",
       "      <td>Male</td>\n",
       "      <td>30</td>\n",
       "      <td>Beauty</td>\n",
       "      <td>2</td>\n",
       "      <td>50</td>\n",
       "      <td>100</td>\n",
       "    </tr>\n",
       "  </tbody>\n",
       "</table>\n",
       "</div>"
      ],
      "text/plain": [
       "   Transaction ID        Date Customer ID  Gender  Age Product Category  \\\n",
       "0               1  24-11-2023     CUST001    Male   34           Beauty   \n",
       "1               2  27-02-2023     CUST002  Female   26         Clothing   \n",
       "2               3  13-01-2023     CUST003    Male   50      Electronics   \n",
       "3               4  21-05-2023     CUST004    Male   37         Clothing   \n",
       "4               5  06-05-2023     CUST005    Male   30           Beauty   \n",
       "\n",
       "   Quantity  Price per Unit  Total Amount  \n",
       "0         3              50           150  \n",
       "1         2             500          1000  \n",
       "2         1              30            30  \n",
       "3         1             500           500  \n",
       "4         2              50           100  "
      ]
     },
     "execution_count": 6,
     "metadata": {},
     "output_type": "execute_result"
    }
   ],
   "source": [
    "retail_data.head()"
   ]
  },
  {
   "cell_type": "code",
   "execution_count": 11,
   "id": "af725ad0-42cc-4a1e-a907-f826b4855fff",
   "metadata": {},
   "outputs": [],
   "source": [
    "# Convert the 'Date' column to datetime format"
   ]
  },
  {
   "cell_type": "code",
   "execution_count": 12,
   "id": "0df4bbc8-ff9b-4bbb-8451-d4d00cd7085d",
   "metadata": {},
   "outputs": [],
   "source": [
    "retail_data['Date'] = pd.to_datetime(retail_data['Date'], format='%d-%m-%Y')"
   ]
  },
  {
   "cell_type": "code",
   "execution_count": 9,
   "id": "cceeb8d0-42ff-4179-a077-d9e3c0a9ed10",
   "metadata": {},
   "outputs": [
    {
     "data": {
      "text/html": [
       "<div>\n",
       "<style scoped>\n",
       "    .dataframe tbody tr th:only-of-type {\n",
       "        vertical-align: middle;\n",
       "    }\n",
       "\n",
       "    .dataframe tbody tr th {\n",
       "        vertical-align: top;\n",
       "    }\n",
       "\n",
       "    .dataframe thead th {\n",
       "        text-align: right;\n",
       "    }\n",
       "</style>\n",
       "<table border=\"1\" class=\"dataframe\">\n",
       "  <thead>\n",
       "    <tr style=\"text-align: right;\">\n",
       "      <th></th>\n",
       "      <th>Transaction ID</th>\n",
       "      <th>Date</th>\n",
       "      <th>Customer ID</th>\n",
       "      <th>Gender</th>\n",
       "      <th>Age</th>\n",
       "      <th>Product Category</th>\n",
       "      <th>Quantity</th>\n",
       "      <th>Price per Unit</th>\n",
       "      <th>Total Amount</th>\n",
       "    </tr>\n",
       "  </thead>\n",
       "  <tbody>\n",
       "    <tr>\n",
       "      <th>0</th>\n",
       "      <td>1</td>\n",
       "      <td>2023-11-24</td>\n",
       "      <td>CUST001</td>\n",
       "      <td>Male</td>\n",
       "      <td>34</td>\n",
       "      <td>Beauty</td>\n",
       "      <td>3</td>\n",
       "      <td>50</td>\n",
       "      <td>150</td>\n",
       "    </tr>\n",
       "    <tr>\n",
       "      <th>1</th>\n",
       "      <td>2</td>\n",
       "      <td>2023-02-27</td>\n",
       "      <td>CUST002</td>\n",
       "      <td>Female</td>\n",
       "      <td>26</td>\n",
       "      <td>Clothing</td>\n",
       "      <td>2</td>\n",
       "      <td>500</td>\n",
       "      <td>1000</td>\n",
       "    </tr>\n",
       "    <tr>\n",
       "      <th>2</th>\n",
       "      <td>3</td>\n",
       "      <td>2023-01-13</td>\n",
       "      <td>CUST003</td>\n",
       "      <td>Male</td>\n",
       "      <td>50</td>\n",
       "      <td>Electronics</td>\n",
       "      <td>1</td>\n",
       "      <td>30</td>\n",
       "      <td>30</td>\n",
       "    </tr>\n",
       "    <tr>\n",
       "      <th>3</th>\n",
       "      <td>4</td>\n",
       "      <td>2023-05-21</td>\n",
       "      <td>CUST004</td>\n",
       "      <td>Male</td>\n",
       "      <td>37</td>\n",
       "      <td>Clothing</td>\n",
       "      <td>1</td>\n",
       "      <td>500</td>\n",
       "      <td>500</td>\n",
       "    </tr>\n",
       "    <tr>\n",
       "      <th>4</th>\n",
       "      <td>5</td>\n",
       "      <td>2023-05-06</td>\n",
       "      <td>CUST005</td>\n",
       "      <td>Male</td>\n",
       "      <td>30</td>\n",
       "      <td>Beauty</td>\n",
       "      <td>2</td>\n",
       "      <td>50</td>\n",
       "      <td>100</td>\n",
       "    </tr>\n",
       "  </tbody>\n",
       "</table>\n",
       "</div>"
      ],
      "text/plain": [
       "   Transaction ID       Date Customer ID  Gender  Age Product Category  \\\n",
       "0               1 2023-11-24     CUST001    Male   34           Beauty   \n",
       "1               2 2023-02-27     CUST002  Female   26         Clothing   \n",
       "2               3 2023-01-13     CUST003    Male   50      Electronics   \n",
       "3               4 2023-05-21     CUST004    Male   37         Clothing   \n",
       "4               5 2023-05-06     CUST005    Male   30           Beauty   \n",
       "\n",
       "   Quantity  Price per Unit  Total Amount  \n",
       "0         3              50           150  \n",
       "1         2             500          1000  \n",
       "2         1              30            30  \n",
       "3         1             500           500  \n",
       "4         2              50           100  "
      ]
     },
     "execution_count": 9,
     "metadata": {},
     "output_type": "execute_result"
    }
   ],
   "source": [
    "retail_data.head()"
   ]
  },
  {
   "cell_type": "code",
   "execution_count": 13,
   "id": "b1dc33e8-34aa-43a1-9c05-2b8994dc67d7",
   "metadata": {},
   "outputs": [],
   "source": [
    "# Check for duplicates and drop them if necessary"
   ]
  },
  {
   "cell_type": "code",
   "execution_count": 14,
   "id": "8cebc223-07d6-4b07-97b3-b6846c4d4f46",
   "metadata": {},
   "outputs": [],
   "source": [
    "duplicates = retail_data.duplicated().sum()\n",
    "retail_data = retail_data.drop_duplicates()"
   ]
  },
  {
   "cell_type": "code",
   "execution_count": 10,
   "id": "92853e14-6e01-4d07-baa1-734aa0305331",
   "metadata": {},
   "outputs": [
    {
     "data": {
      "text/html": [
       "<div>\n",
       "<style scoped>\n",
       "    .dataframe tbody tr th:only-of-type {\n",
       "        vertical-align: middle;\n",
       "    }\n",
       "\n",
       "    .dataframe tbody tr th {\n",
       "        vertical-align: top;\n",
       "    }\n",
       "\n",
       "    .dataframe thead th {\n",
       "        text-align: right;\n",
       "    }\n",
       "</style>\n",
       "<table border=\"1\" class=\"dataframe\">\n",
       "  <thead>\n",
       "    <tr style=\"text-align: right;\">\n",
       "      <th></th>\n",
       "      <th>Transaction ID</th>\n",
       "      <th>Date</th>\n",
       "      <th>Customer ID</th>\n",
       "      <th>Gender</th>\n",
       "      <th>Age</th>\n",
       "      <th>Product Category</th>\n",
       "      <th>Quantity</th>\n",
       "      <th>Price per Unit</th>\n",
       "      <th>Total Amount</th>\n",
       "    </tr>\n",
       "  </thead>\n",
       "  <tbody>\n",
       "    <tr>\n",
       "      <th>0</th>\n",
       "      <td>1</td>\n",
       "      <td>2023-11-24</td>\n",
       "      <td>CUST001</td>\n",
       "      <td>Male</td>\n",
       "      <td>34</td>\n",
       "      <td>Beauty</td>\n",
       "      <td>3</td>\n",
       "      <td>50</td>\n",
       "      <td>150</td>\n",
       "    </tr>\n",
       "    <tr>\n",
       "      <th>1</th>\n",
       "      <td>2</td>\n",
       "      <td>2023-02-27</td>\n",
       "      <td>CUST002</td>\n",
       "      <td>Female</td>\n",
       "      <td>26</td>\n",
       "      <td>Clothing</td>\n",
       "      <td>2</td>\n",
       "      <td>500</td>\n",
       "      <td>1000</td>\n",
       "    </tr>\n",
       "    <tr>\n",
       "      <th>2</th>\n",
       "      <td>3</td>\n",
       "      <td>2023-01-13</td>\n",
       "      <td>CUST003</td>\n",
       "      <td>Male</td>\n",
       "      <td>50</td>\n",
       "      <td>Electronics</td>\n",
       "      <td>1</td>\n",
       "      <td>30</td>\n",
       "      <td>30</td>\n",
       "    </tr>\n",
       "    <tr>\n",
       "      <th>3</th>\n",
       "      <td>4</td>\n",
       "      <td>2023-05-21</td>\n",
       "      <td>CUST004</td>\n",
       "      <td>Male</td>\n",
       "      <td>37</td>\n",
       "      <td>Clothing</td>\n",
       "      <td>1</td>\n",
       "      <td>500</td>\n",
       "      <td>500</td>\n",
       "    </tr>\n",
       "    <tr>\n",
       "      <th>4</th>\n",
       "      <td>5</td>\n",
       "      <td>2023-05-06</td>\n",
       "      <td>CUST005</td>\n",
       "      <td>Male</td>\n",
       "      <td>30</td>\n",
       "      <td>Beauty</td>\n",
       "      <td>2</td>\n",
       "      <td>50</td>\n",
       "      <td>100</td>\n",
       "    </tr>\n",
       "  </tbody>\n",
       "</table>\n",
       "</div>"
      ],
      "text/plain": [
       "   Transaction ID       Date Customer ID  Gender  Age Product Category  \\\n",
       "0               1 2023-11-24     CUST001    Male   34           Beauty   \n",
       "1               2 2023-02-27     CUST002  Female   26         Clothing   \n",
       "2               3 2023-01-13     CUST003    Male   50      Electronics   \n",
       "3               4 2023-05-21     CUST004    Male   37         Clothing   \n",
       "4               5 2023-05-06     CUST005    Male   30           Beauty   \n",
       "\n",
       "   Quantity  Price per Unit  Total Amount  \n",
       "0         3              50           150  \n",
       "1         2             500          1000  \n",
       "2         1              30            30  \n",
       "3         1             500           500  \n",
       "4         2              50           100  "
      ]
     },
     "execution_count": 10,
     "metadata": {},
     "output_type": "execute_result"
    }
   ],
   "source": [
    "retail_data.head()"
   ]
  },
  {
   "cell_type": "code",
   "execution_count": 15,
   "id": "e8372e2b-dd8a-4081-b4e0-d60164b17e41",
   "metadata": {},
   "outputs": [],
   "source": [
    "# Summary statistics for numeric columns"
   ]
  },
  {
   "cell_type": "code",
   "execution_count": 16,
   "id": "712f6002-2db9-4b54-a2fe-598bca4f8866",
   "metadata": {},
   "outputs": [],
   "source": [
    "summary_stats = retail_data.describe()"
   ]
  },
  {
   "cell_type": "code",
   "execution_count": 17,
   "id": "996511e7-ad0e-4735-a37b-e646599a7b0c",
   "metadata": {},
   "outputs": [
    {
     "name": "stdout",
     "output_type": "stream",
     "text": [
      "       Transaction ID                           Date         Age     Quantity  \\\n",
      "count     1000.000000                           1000  1000.00000  1000.000000   \n",
      "mean       500.500000  2023-07-03 00:25:55.200000256    41.39200     2.514000   \n",
      "min          1.000000            2023-01-01 00:00:00    18.00000     1.000000   \n",
      "25%        250.750000            2023-04-08 00:00:00    29.00000     1.000000   \n",
      "50%        500.500000            2023-06-29 12:00:00    42.00000     3.000000   \n",
      "75%        750.250000            2023-10-04 00:00:00    53.00000     4.000000   \n",
      "max       1000.000000            2024-01-01 00:00:00    64.00000     4.000000   \n",
      "std        288.819436                            NaN    13.68143     1.132734   \n",
      "\n",
      "       Price per Unit  Total Amount  \n",
      "count     1000.000000   1000.000000  \n",
      "mean       179.890000    456.000000  \n",
      "min         25.000000     25.000000  \n",
      "25%         30.000000     60.000000  \n",
      "50%         50.000000    135.000000  \n",
      "75%        300.000000    900.000000  \n",
      "max        500.000000   2000.000000  \n",
      "std        189.681356    559.997632  \n"
     ]
    }
   ],
   "source": [
    "print(summary_stats)"
   ]
  },
  {
   "cell_type": "code",
   "execution_count": 18,
   "id": "890902fd-5767-4419-9948-71f417dbe7a3",
   "metadata": {},
   "outputs": [],
   "source": [
    "# Display cleaned data info and summary statistics"
   ]
  },
  {
   "cell_type": "code",
   "execution_count": 19,
   "id": "df7bdddd-ae1d-4d0a-a495-d9ad64873d3a",
   "metadata": {},
   "outputs": [
    {
     "name": "stdout",
     "output_type": "stream",
     "text": [
      "<class 'pandas.core.frame.DataFrame'>\n",
      "RangeIndex: 1000 entries, 0 to 999\n",
      "Data columns (total 9 columns):\n",
      " #   Column            Non-Null Count  Dtype         \n",
      "---  ------            --------------  -----         \n",
      " 0   Transaction ID    1000 non-null   int64         \n",
      " 1   Date              1000 non-null   datetime64[ns]\n",
      " 2   Customer ID       1000 non-null   object        \n",
      " 3   Gender            1000 non-null   object        \n",
      " 4   Age               1000 non-null   int64         \n",
      " 5   Product Category  1000 non-null   object        \n",
      " 6   Quantity          1000 non-null   int64         \n",
      " 7   Price per Unit    1000 non-null   int64         \n",
      " 8   Total Amount      1000 non-null   int64         \n",
      "dtypes: datetime64[ns](1), int64(5), object(3)\n",
      "memory usage: 70.4+ KB\n"
     ]
    },
    {
     "data": {
      "text/plain": [
       "(None,\n",
       " np.int64(0),\n",
       "        Transaction ID                           Date         Age     Quantity  \\\n",
       " count     1000.000000                           1000  1000.00000  1000.000000   \n",
       " mean       500.500000  2023-07-03 00:25:55.200000256    41.39200     2.514000   \n",
       " min          1.000000            2023-01-01 00:00:00    18.00000     1.000000   \n",
       " 25%        250.750000            2023-04-08 00:00:00    29.00000     1.000000   \n",
       " 50%        500.500000            2023-06-29 12:00:00    42.00000     3.000000   \n",
       " 75%        750.250000            2023-10-04 00:00:00    53.00000     4.000000   \n",
       " max       1000.000000            2024-01-01 00:00:00    64.00000     4.000000   \n",
       " std        288.819436                            NaN    13.68143     1.132734   \n",
       " \n",
       "        Price per Unit  Total Amount  \n",
       " count     1000.000000   1000.000000  \n",
       " mean       179.890000    456.000000  \n",
       " min         25.000000     25.000000  \n",
       " 25%         30.000000     60.000000  \n",
       " 50%         50.000000    135.000000  \n",
       " 75%        300.000000    900.000000  \n",
       " max        500.000000   2000.000000  \n",
       " std        189.681356    559.997632  )"
      ]
     },
     "execution_count": 19,
     "metadata": {},
     "output_type": "execute_result"
    }
   ],
   "source": [
    "retail_data.info(), duplicates, summary_stats"
   ]
  },
  {
   "cell_type": "code",
   "execution_count": null,
   "id": "5bc3da7e-0815-406c-ba2a-633946fd75e0",
   "metadata": {},
   "outputs": [],
   "source": [
    "#Making new cleaned dataset"
   ]
  },
  {
   "cell_type": "code",
   "execution_count": 19,
   "id": "04414bed-4082-4cae-89d1-56ddae1bb406",
   "metadata": {},
   "outputs": [],
   "source": [
    "retail_data.to_csv('retail_Cleaned.csv', index=False)"
   ]
  },
  {
   "cell_type": "code",
   "execution_count": 20,
   "id": "cb9ce01a-378e-42bd-b8ee-99204a6bc781",
   "metadata": {},
   "outputs": [],
   "source": [
    "retail_data.to_excel('retail_Cleaned.xlsx', index=False)"
   ]
  },
  {
   "cell_type": "code",
   "execution_count": 20,
   "id": "42106f4c-b230-4b3d-b01f-4ace1de98785",
   "metadata": {},
   "outputs": [
    {
     "name": "stdout",
     "output_type": "stream",
     "text": [
      "retail_data.csv is successfully cleaned\n"
     ]
    }
   ],
   "source": [
    "print(\"retail_data.csv is successfully cleaned\")"
   ]
  },
  {
   "cell_type": "code",
   "execution_count": 21,
   "id": "7326859c-469e-4788-8065-f59012b71484",
   "metadata": {},
   "outputs": [],
   "source": [
    "import matplotlib.pyplot as plt"
   ]
  },
  {
   "cell_type": "code",
   "execution_count": 22,
   "id": "6e2dc70f-fee8-48f5-9d4c-c274359a6ea7",
   "metadata": {},
   "outputs": [],
   "source": [
    "import seaborn as sns"
   ]
  },
  {
   "cell_type": "code",
   "execution_count": 23,
   "id": "64b7255b-7543-474e-8bd6-422a458eccfc",
   "metadata": {},
   "outputs": [],
   "source": [
    "sns.set(style=\"whitegrid\")"
   ]
  },
  {
   "cell_type": "code",
   "execution_count": 25,
   "id": "119f4b62-45cf-49f3-b642-422e108af905",
   "metadata": {},
   "outputs": [],
   "source": [
    "monthly_sales = retail_data.resample('ME', on='Date')['Total Amount'].sum()\n",
    "\n"
   ]
  },
  {
   "cell_type": "code",
   "execution_count": 26,
   "id": "b2f2e339-557d-4021-815f-cafb48e49145",
   "metadata": {},
   "outputs": [
    {
     "data": {
      "image/png": "[encoded data removed]",
      "text/plain": [
       "<Figure size 1200x600 with 1 Axes>"
      ]
     },
     "metadata": {},
     "output_type": "display_data"
    }
   ],
   "source": [
    "plt.figure(figsize=(12, 6))\n",
    "plt.plot(monthly_sales.index, monthly_sales.values, marker='o', linestyle='-', color='b')\n",
    "plt.title('Monthly Sales Trend', fontsize=16)\n",
    "plt.xlabel('Month', fontsize=14)\n",
    "plt.ylabel('Total Sales (Amount)', fontsize=14)\n",
    "plt.xticks(rotation=45)\n",
    "plt.grid(alpha=0.4)\n",
    "plt.tight_layout()\n",
    "plt.show()"
   ]
  },
  {
   "cell_type": "code",
   "execution_count": null,
   "id": "8c805c9a-5908-45e5-97d7-a5d699e36348",
   "metadata": {},
   "outputs": [],
   "source": []
  }
 ],
 "metadata": {
  "kernelspec": {
   "display_name": "Python 3 (ipykernel)",
   "language": "python",
   "name": "python3"
  },
  "language_info": {
   "codemirror_mode": {
    "name": "ipython",
    "version": 3
   },
   "file_extension": ".py",
   "mimetype": "text/x-python",
   "name": "python",
   "nbconvert_exporter": "python",
   "pygments_lexer": "ipython3",
   "version": "3.12.3"
  }
 },
 "nbformat": 4,
 "nbformat_minor": 5
}
